{
 "cells": [
  {
   "cell_type": "markdown",
   "metadata": {},
   "source": [
    "## Analise Exploratoria do Sales Data"
   ]
  },
  {
   "cell_type": "code",
   "execution_count": 45,
   "metadata": {},
   "outputs": [],
   "source": [
    "#imports de biblioteca\n",
    "import pandas as pd\n",
    "import matplotlib.pyplot as plt\n",
    "import seaborn as sns \n",
    "from sqlalchemy import create_engine\n",
    "from sqlalchemy.exc import OperationalError\n",
    "from sqlalchemy_utils import create_database"
   ]
  },
  {
   "cell_type": "markdown",
   "metadata": {},
   "source": [
    "### Carregamento do dataframe de dados de vendas"
   ]
  },
  {
   "cell_type": "code",
   "execution_count": 2,
   "metadata": {},
   "outputs": [],
   "source": [
    "#carregamento da base de dados de sales_data\n",
    "df_sales = pd.read_excel('../data/sales_data.csv.xlsx')\n"
   ]
  },
  {
   "cell_type": "code",
   "execution_count": 3,
   "metadata": {},
   "outputs": [
    {
     "data": {
      "text/html": [
       "<div>\n",
       "<style scoped>\n",
       "    .dataframe tbody tr th:only-of-type {\n",
       "        vertical-align: middle;\n",
       "    }\n",
       "\n",
       "    .dataframe tbody tr th {\n",
       "        vertical-align: top;\n",
       "    }\n",
       "\n",
       "    .dataframe thead th {\n",
       "        text-align: right;\n",
       "    }\n",
       "</style>\n",
       "<table border=\"1\" class=\"dataframe\">\n",
       "  <thead>\n",
       "    <tr style=\"text-align: right;\">\n",
       "      <th></th>\n",
       "      <th>order_id</th>\n",
       "      <th>product_name</th>\n",
       "      <th>quantity</th>\n",
       "      <th>unit_price</th>\n",
       "      <th>cliente_id</th>\n",
       "      <th>order_date</th>\n",
       "    </tr>\n",
       "  </thead>\n",
       "  <tbody>\n",
       "    <tr>\n",
       "      <th>0</th>\n",
       "      <td>1</td>\n",
       "      <td>Produto A</td>\n",
       "      <td>3</td>\n",
       "      <td>25</td>\n",
       "      <td>74</td>\n",
       "      <td>2024-03-01</td>\n",
       "    </tr>\n",
       "    <tr>\n",
       "      <th>1</th>\n",
       "      <td>2</td>\n",
       "      <td>Produto B</td>\n",
       "      <td>2</td>\n",
       "      <td>30</td>\n",
       "      <td>36</td>\n",
       "      <td>2024-03-02</td>\n",
       "    </tr>\n",
       "    <tr>\n",
       "      <th>2</th>\n",
       "      <td>3</td>\n",
       "      <td>Produto C</td>\n",
       "      <td>1</td>\n",
       "      <td>20</td>\n",
       "      <td>12</td>\n",
       "      <td>2024-03-03</td>\n",
       "    </tr>\n",
       "    <tr>\n",
       "      <th>3</th>\n",
       "      <td>4</td>\n",
       "      <td>Produto A</td>\n",
       "      <td>4</td>\n",
       "      <td>25</td>\n",
       "      <td>92</td>\n",
       "      <td>2024-03-04</td>\n",
       "    </tr>\n",
       "    <tr>\n",
       "      <th>4</th>\n",
       "      <td>5</td>\n",
       "      <td>Produto D</td>\n",
       "      <td>2</td>\n",
       "      <td>40</td>\n",
       "      <td>55</td>\n",
       "      <td>2024-03-05</td>\n",
       "    </tr>\n",
       "    <tr>\n",
       "      <th>...</th>\n",
       "      <td>...</td>\n",
       "      <td>...</td>\n",
       "      <td>...</td>\n",
       "      <td>...</td>\n",
       "      <td>...</td>\n",
       "      <td>...</td>\n",
       "    </tr>\n",
       "    <tr>\n",
       "      <th>95</th>\n",
       "      <td>96</td>\n",
       "      <td>Produto C</td>\n",
       "      <td>2</td>\n",
       "      <td>20</td>\n",
       "      <td>29</td>\n",
       "      <td>2024-06-04</td>\n",
       "    </tr>\n",
       "    <tr>\n",
       "      <th>96</th>\n",
       "      <td>97</td>\n",
       "      <td>Produto D</td>\n",
       "      <td>3</td>\n",
       "      <td>40</td>\n",
       "      <td>76</td>\n",
       "      <td>2024-06-05</td>\n",
       "    </tr>\n",
       "    <tr>\n",
       "      <th>97</th>\n",
       "      <td>98</td>\n",
       "      <td>Produto A</td>\n",
       "      <td>1</td>\n",
       "      <td>25</td>\n",
       "      <td>97</td>\n",
       "      <td>2024-06-06</td>\n",
       "    </tr>\n",
       "    <tr>\n",
       "      <th>98</th>\n",
       "      <td>99</td>\n",
       "      <td>Produto B</td>\n",
       "      <td>2</td>\n",
       "      <td>30</td>\n",
       "      <td>50</td>\n",
       "      <td>2024-06-07</td>\n",
       "    </tr>\n",
       "    <tr>\n",
       "      <th>99</th>\n",
       "      <td>100</td>\n",
       "      <td>Produto C</td>\n",
       "      <td>4</td>\n",
       "      <td>20</td>\n",
       "      <td>67</td>\n",
       "      <td>2024-06-08</td>\n",
       "    </tr>\n",
       "  </tbody>\n",
       "</table>\n",
       "<p>100 rows × 6 columns</p>\n",
       "</div>"
      ],
      "text/plain": [
       "    order_id product_name  quantity  unit_price  cliente_id order_date\n",
       "0          1    Produto A         3          25          74 2024-03-01\n",
       "1          2    Produto B         2          30          36 2024-03-02\n",
       "2          3    Produto C         1          20          12 2024-03-03\n",
       "3          4    Produto A         4          25          92 2024-03-04\n",
       "4          5    Produto D         2          40          55 2024-03-05\n",
       "..       ...          ...       ...         ...         ...        ...\n",
       "95        96    Produto C         2          20          29 2024-06-04\n",
       "96        97    Produto D         3          40          76 2024-06-05\n",
       "97        98    Produto A         1          25          97 2024-06-06\n",
       "98        99    Produto B         2          30          50 2024-06-07\n",
       "99       100    Produto C         4          20          67 2024-06-08\n",
       "\n",
       "[100 rows x 6 columns]"
      ]
     },
     "execution_count": 3,
     "metadata": {},
     "output_type": "execute_result"
    }
   ],
   "source": [
    "df_sales"
   ]
  },
  {
   "cell_type": "markdown",
   "metadata": {},
   "source": [
    "#### Pré-processamento dos dados"
   ]
  },
  {
   "cell_type": "markdown",
   "metadata": {},
   "source": [
    "- Alteração do nome das colunas"
   ]
  },
  {
   "cell_type": "code",
   "execution_count": 4,
   "metadata": {},
   "outputs": [
    {
     "data": {
      "text/plain": [
       "Index(['order_id', 'product_name', 'quantity', 'unit_price', 'cliente_id',\n",
       "       'order_date'],\n",
       "      dtype='object')"
      ]
     },
     "execution_count": 4,
     "metadata": {},
     "output_type": "execute_result"
    }
   ],
   "source": [
    "#Verificação do nome das colunas\n",
    "df_sales.columns"
   ]
  },
  {
   "cell_type": "code",
   "execution_count": 5,
   "metadata": {},
   "outputs": [],
   "source": [
    "#realização da troca de nome de colunas passando o nome antigo e o novo e utilizando o inplace\n",
    "df_sales.rename(columns={'order_id':'id_compra','product_name':'produto',\n",
    "                         'quantity':'quantidade','unit_price':'preco_unitario',\n",
    "                         'cliente_id':'id_cliente','order_date':'data_pedido'}, inplace=True)"
   ]
  },
  {
   "cell_type": "code",
   "execution_count": 6,
   "metadata": {},
   "outputs": [
    {
     "data": {
      "text/plain": [
       "Index(['id_compra', 'produto', 'quantidade', 'preco_unitario', 'id_cliente',\n",
       "       'data_pedido'],\n",
       "      dtype='object')"
      ]
     },
     "execution_count": 6,
     "metadata": {},
     "output_type": "execute_result"
    }
   ],
   "source": [
    "df_sales.columns"
   ]
  },
  {
   "cell_type": "markdown",
   "metadata": {},
   "source": [
    "- verificação de tipos de dados"
   ]
  },
  {
   "cell_type": "code",
   "execution_count": 7,
   "metadata": {},
   "outputs": [
    {
     "data": {
      "text/plain": [
       "id_compra                  int64\n",
       "produto                   object\n",
       "quantidade                 int64\n",
       "preco_unitario             int64\n",
       "id_cliente                 int64\n",
       "data_pedido       datetime64[ns]\n",
       "dtype: object"
      ]
     },
     "execution_count": 7,
     "metadata": {},
     "output_type": "execute_result"
    }
   ],
   "source": [
    "df_sales.dtypes"
   ]
  },
  {
   "cell_type": "markdown",
   "metadata": {},
   "source": [
    "- verificação de nulos"
   ]
  },
  {
   "cell_type": "code",
   "execution_count": 8,
   "metadata": {},
   "outputs": [
    {
     "data": {
      "text/plain": [
       "id_compra         0\n",
       "produto           0\n",
       "quantidade        0\n",
       "preco_unitario    0\n",
       "id_cliente        0\n",
       "data_pedido       0\n",
       "dtype: int64"
      ]
     },
     "execution_count": 8,
     "metadata": {},
     "output_type": "execute_result"
    }
   ],
   "source": [
    "df_sales.isnull().sum()"
   ]
  },
  {
   "cell_type": "markdown",
   "metadata": {},
   "source": [
    "- verficação de duplicatas"
   ]
  },
  {
   "cell_type": "code",
   "execution_count": 9,
   "metadata": {},
   "outputs": [
    {
     "data": {
      "text/plain": [
       "0"
      ]
     },
     "execution_count": 9,
     "metadata": {},
     "output_type": "execute_result"
    }
   ],
   "source": [
    "df_sales.duplicated().sum()"
   ]
  },
  {
   "cell_type": "markdown",
   "metadata": {},
   "source": [
    "- resumo geral do dataframe "
   ]
  },
  {
   "cell_type": "code",
   "execution_count": 10,
   "metadata": {},
   "outputs": [
    {
     "name": "stdout",
     "output_type": "stream",
     "text": [
      "<class 'pandas.core.frame.DataFrame'>\n",
      "RangeIndex: 100 entries, 0 to 99\n",
      "Data columns (total 6 columns):\n",
      " #   Column          Non-Null Count  Dtype         \n",
      "---  ------          --------------  -----         \n",
      " 0   id_compra       100 non-null    int64         \n",
      " 1   produto         100 non-null    object        \n",
      " 2   quantidade      100 non-null    int64         \n",
      " 3   preco_unitario  100 non-null    int64         \n",
      " 4   id_cliente      100 non-null    int64         \n",
      " 5   data_pedido     100 non-null    datetime64[ns]\n",
      "dtypes: datetime64[ns](1), int64(4), object(1)\n",
      "memory usage: 4.8+ KB\n"
     ]
    }
   ],
   "source": [
    "df_sales.info()"
   ]
  },
  {
   "cell_type": "markdown",
   "metadata": {},
   "source": [
    "#### Descrição dos dados"
   ]
  },
  {
   "cell_type": "code",
   "execution_count": 11,
   "metadata": {},
   "outputs": [
    {
     "name": "stdout",
     "output_type": "stream",
     "text": [
      "tamanho: (100, 6)\n",
      "atributos: Index(['id_compra', 'produto', 'quantidade', 'preco_unitario', 'id_cliente',\n",
      "       'data_pedido'],\n",
      "      dtype='object')\n"
     ]
    }
   ],
   "source": [
    "print(f'tamanho: {df_sales.shape}')\n",
    "print(f'atributos: {df_sales.columns}')"
   ]
  },
  {
   "cell_type": "markdown",
   "metadata": {},
   "source": [
    "### Perguntas:"
   ]
  },
  {
   "cell_type": "markdown",
   "metadata": {},
   "source": [
    "-  Qual a média de venda de cada produto?\n",
    "-  Quais produtos são os mais comprados?\n",
    "-  Quanto o produto mais caro arrecadou?\n",
    "-  Quais produtos clientes compraram mais de 1 produto e quais produtos foram comprados?\n",
    "-  Qual foi o mês com o maior rentabilidade?"
   ]
  },
  {
   "cell_type": "markdown",
   "metadata": {},
   "source": [
    "#### Qual a media de venda de cada produto?"
   ]
  },
  {
   "cell_type": "markdown",
   "metadata": {},
   "source": [
    "a média de venda dos produtos são:\n",
    "\n",
    "| produto | média | mediana | quantidade |\n",
    "|------|------|------|------|\n",
    "| Produto A  |  2.346154 | 2.0 | 61 |\n",
    "| Produto B  |  2.400000 | 2.0 | 60 |\n",
    "| Produto C  |  2.400000 | 2.0 | 60 |\n",
    "| Produto D  |  2.208333 | 2.0 | 53 |\n",
    "\n",
    "\n"
   ]
  },
  {
   "cell_type": "code",
   "execution_count": 12,
   "metadata": {},
   "outputs": [],
   "source": [
    "#agrupamento pela coluna product_name \n",
    "product_group = df_sales.groupby(['produto'])"
   ]
  },
  {
   "cell_type": "code",
   "execution_count": 13,
   "metadata": {},
   "outputs": [
    {
     "data": {
      "text/plain": [
       "Text(0.5, 1.0, 'Boxplot de Quantidade')"
      ]
     },
     "execution_count": 13,
     "metadata": {},
     "output_type": "execute_result"
    },
    {
     "data": {
      "image/png": "[encoded data removed]",
      "text/plain": [
       "<Figure size 640x480 with 1 Axes>"
      ]
     },
     "metadata": {},
     "output_type": "display_data"
    }
   ],
   "source": [
    "sns.boxplot(data=df_sales,y='quantidade',x='produto', color='gray').set_title('Boxplot de Quantidade')"
   ]
  },
  {
   "cell_type": "code",
   "execution_count": 14,
   "metadata": {},
   "outputs": [
    {
     "data": {
      "text/plain": [
       "produto\n",
       "Produto A    2.346154\n",
       "Produto B    2.400000\n",
       "Produto C    2.400000\n",
       "Produto D    2.208333\n",
       "Name: quantidade, dtype: float64"
      ]
     },
     "execution_count": 14,
     "metadata": {},
     "output_type": "execute_result"
    }
   ],
   "source": [
    "media_produtos = product_group['quantidade'].mean()\n",
    "media_produtos"
   ]
  },
  {
   "cell_type": "code",
   "execution_count": 15,
   "metadata": {},
   "outputs": [
    {
     "data": {
      "text/plain": [
       "produto\n",
       "Produto A    2.0\n",
       "Produto B    2.0\n",
       "Produto C    2.0\n",
       "Produto D    2.0\n",
       "Name: quantidade, dtype: float64"
      ]
     },
     "execution_count": 15,
     "metadata": {},
     "output_type": "execute_result"
    }
   ],
   "source": [
    "median_produtos = product_group['quantidade'].median()\n",
    "median_produtos"
   ]
  },
  {
   "cell_type": "code",
   "execution_count": 16,
   "metadata": {},
   "outputs": [
    {
     "data": {
      "text/plain": [
       "produto\n",
       "Produto A    61\n",
       "Produto B    60\n",
       "Produto C    60\n",
       "Produto D    53\n",
       "Name: quantidade, dtype: int64"
      ]
     },
     "execution_count": 16,
     "metadata": {},
     "output_type": "execute_result"
    }
   ],
   "source": [
    "product_group['quantidade'].sum()"
   ]
  },
  {
   "cell_type": "markdown",
   "metadata": {},
   "source": [
    "#### Quais são os produtos mais comprados?"
   ]
  },
  {
   "cell_type": "markdown",
   "metadata": {},
   "source": [
    "O produto mais comprado é o Produto A, a quantidade de venda de produtos é bem proxima entre sí, em segundo lugar vem os produtos B e C e em ultimo o Produto D"
   ]
  },
  {
   "cell_type": "code",
   "execution_count": 17,
   "metadata": {},
   "outputs": [
    {
     "data": {
      "text/plain": [
       "produto\n",
       "Produto A    61\n",
       "Produto B    60\n",
       "Produto C    60\n",
       "Produto D    53\n",
       "Name: quantidade, dtype: int64"
      ]
     },
     "execution_count": 17,
     "metadata": {},
     "output_type": "execute_result"
    }
   ],
   "source": [
    "qtd_compra = product_group['quantidade'].sum()\n",
    "qtd_compra\n"
   ]
  },
  {
   "cell_type": "markdown",
   "metadata": {},
   "source": [
    "#### Qual o produto mais caro e o quanto o produto arrecadou?"
   ]
  },
  {
   "cell_type": "markdown",
   "metadata": {},
   "source": [
    "O produto mais caro é o Produto D, com uma arrecadação total de 2120,0. Apesar de ser o produto com maior arrecadação, o Produto D é o que possui o menor numero de vendas: 53."
   ]
  },
  {
   "cell_type": "code",
   "execution_count": 18,
   "metadata": {},
   "outputs": [
    {
     "data": {
      "text/plain": [
       "produto\n",
       "Produto A    1525.0\n",
       "Produto B    1800.0\n",
       "Produto C    1200.0\n",
       "Produto D    2120.0\n",
       "dtype: float64"
      ]
     },
     "execution_count": 18,
     "metadata": {},
     "output_type": "execute_result"
    }
   ],
   "source": [
    "#soma da quantidade de produtos agrupado por cada tipo de produto aloado na variavel qtd\n",
    "qtd = product_group['quantidade'].sum()\n",
    "#media de preço dos produtos agrupado por cada tipo de produto calculado na variavel preco\n",
    "preco = product_group['preco_unitario'].mean()\n",
    "#calculo de qtd x preço e alocado o resultado no valor_arrecadação\n",
    "valor_arrecadado = qtd * preco\n",
    "\n",
    "valor_arrecadado\n"
   ]
  },
  {
   "cell_type": "code",
   "execution_count": 19,
   "metadata": {},
   "outputs": [
    {
     "data": {
      "text/plain": [
       "(array([0, 1, 2, 3]),\n",
       " [Text(0, 0, 'Produto A'),\n",
       "  Text(1, 0, 'Produto B'),\n",
       "  Text(2, 0, 'Produto C'),\n",
       "  Text(3, 0, 'Produto D')])"
      ]
     },
     "execution_count": 19,
     "metadata": {},
     "output_type": "execute_result"
    },
    {
     "data": {
      "image/png": "[encoded data removed]",
      "text/plain": [
       "<Figure size 640x480 with 1 Axes>"
      ]
     },
     "metadata": {},
     "output_type": "display_data"
    }
   ],
   "source": [
    "#plot do grafico de tipo barras para a arrecadação por produto\n",
    "valor_arrecadado.plot(kind='bar', color='gray').set(xlabel='Produtos', ylabel='Valor arrecadado', title='Barplot de arreacadação por produto')\n",
    "#orientação da exibição do texto da barra\n",
    "plt.xticks(rotation=1)"
   ]
  },
  {
   "cell_type": "markdown",
   "metadata": {},
   "source": [
    " Quais produtos clientes compraram mais de 1 produto e quais produtos foram comprados?"
   ]
  },
  {
   "cell_type": "code",
   "execution_count": 20,
   "metadata": {},
   "outputs": [],
   "source": [
    "#Agrupamento de clientes que possuem mais de uma compra \n",
    "agrupar_clientes = df_sales['id_cliente'].value_counts()[df_sales['id_cliente'].value_counts() > 1]\n",
    "\n",
    "#criação de filtro  de cliente_id do dataframe df_sales, verificando se o valor se encontra no\n",
    "#index de agrupar_clientes\n",
    "clientes_filter = df_sales[df_sales['id_cliente'].isin(agrupar_clientes.index)]\n",
    "\n",
    "#Agrupamento de clientes_filter pelo cliente_id e a coluna product_name associada ao cliente_id\n",
    "grupo_clientes_produtos = clientes_filter.groupby('id_cliente')['produto']\n",
    "\n",
    "#Aplicação de tipo lista e reset de index para o product_name\n",
    "grupo_clientes_produtos = grupo_clientes_produtos.apply(list).reset_index(name='produto')"
   ]
  },
  {
   "cell_type": "code",
   "execution_count": 21,
   "metadata": {},
   "outputs": [
    {
     "data": {
      "text/html": [
       "<div>\n",
       "<style scoped>\n",
       "    .dataframe tbody tr th:only-of-type {\n",
       "        vertical-align: middle;\n",
       "    }\n",
       "\n",
       "    .dataframe tbody tr th {\n",
       "        vertical-align: top;\n",
       "    }\n",
       "\n",
       "    .dataframe thead th {\n",
       "        text-align: right;\n",
       "    }\n",
       "</style>\n",
       "<table border=\"1\" class=\"dataframe\">\n",
       "  <thead>\n",
       "    <tr style=\"text-align: right;\">\n",
       "      <th></th>\n",
       "      <th>id_cliente</th>\n",
       "      <th>produto</th>\n",
       "    </tr>\n",
       "  </thead>\n",
       "  <tbody>\n",
       "    <tr>\n",
       "      <th>0</th>\n",
       "      <td>3</td>\n",
       "      <td>[Produto B, Produto C]</td>\n",
       "    </tr>\n",
       "    <tr>\n",
       "      <th>1</th>\n",
       "      <td>6</td>\n",
       "      <td>[Produto D, Produto B, Produto B]</td>\n",
       "    </tr>\n",
       "    <tr>\n",
       "      <th>2</th>\n",
       "      <td>8</td>\n",
       "      <td>[Produto A, Produto A, Produto D]</td>\n",
       "    </tr>\n",
       "    <tr>\n",
       "      <th>3</th>\n",
       "      <td>12</td>\n",
       "      <td>[Produto C, Produto B, Produto C]</td>\n",
       "    </tr>\n",
       "    <tr>\n",
       "      <th>4</th>\n",
       "      <td>27</td>\n",
       "      <td>[Produto B, Produto B, Produto C]</td>\n",
       "    </tr>\n",
       "    <tr>\n",
       "      <th>5</th>\n",
       "      <td>36</td>\n",
       "      <td>[Produto B, Produto A]</td>\n",
       "    </tr>\n",
       "    <tr>\n",
       "      <th>6</th>\n",
       "      <td>39</td>\n",
       "      <td>[Produto C, Produto A, Produto C]</td>\n",
       "    </tr>\n",
       "    <tr>\n",
       "      <th>7</th>\n",
       "      <td>42</td>\n",
       "      <td>[Produto D, Produto C]</td>\n",
       "    </tr>\n",
       "    <tr>\n",
       "      <th>8</th>\n",
       "      <td>45</td>\n",
       "      <td>[Produto D, Produto A]</td>\n",
       "    </tr>\n",
       "    <tr>\n",
       "      <th>9</th>\n",
       "      <td>50</td>\n",
       "      <td>[Produto B, Produto C, Produto B]</td>\n",
       "    </tr>\n",
       "    <tr>\n",
       "      <th>10</th>\n",
       "      <td>52</td>\n",
       "      <td>[Produto A, Produto D]</td>\n",
       "    </tr>\n",
       "    <tr>\n",
       "      <th>11</th>\n",
       "      <td>57</td>\n",
       "      <td>[Produto B, Produto A]</td>\n",
       "    </tr>\n",
       "    <tr>\n",
       "      <th>12</th>\n",
       "      <td>58</td>\n",
       "      <td>[Produto C, Produto B]</td>\n",
       "    </tr>\n",
       "    <tr>\n",
       "      <th>13</th>\n",
       "      <td>67</td>\n",
       "      <td>[Produto D, Produto C]</td>\n",
       "    </tr>\n",
       "    <tr>\n",
       "      <th>14</th>\n",
       "      <td>70</td>\n",
       "      <td>[Produto D, Produto D]</td>\n",
       "    </tr>\n",
       "    <tr>\n",
       "      <th>15</th>\n",
       "      <td>76</td>\n",
       "      <td>[Produto C, Produto B, Produto D]</td>\n",
       "    </tr>\n",
       "    <tr>\n",
       "      <th>16</th>\n",
       "      <td>77</td>\n",
       "      <td>[Produto D, Produto C]</td>\n",
       "    </tr>\n",
       "    <tr>\n",
       "      <th>17</th>\n",
       "      <td>83</td>\n",
       "      <td>[Produto C, Produto A]</td>\n",
       "    </tr>\n",
       "    <tr>\n",
       "      <th>18</th>\n",
       "      <td>87</td>\n",
       "      <td>[Produto C, Produto D]</td>\n",
       "    </tr>\n",
       "    <tr>\n",
       "      <th>19</th>\n",
       "      <td>95</td>\n",
       "      <td>[Produto D, Produto D]</td>\n",
       "    </tr>\n",
       "    <tr>\n",
       "      <th>20</th>\n",
       "      <td>96</td>\n",
       "      <td>[Produto C, Produto B]</td>\n",
       "    </tr>\n",
       "  </tbody>\n",
       "</table>\n",
       "</div>"
      ],
      "text/plain": [
       "    id_cliente                            produto\n",
       "0            3             [Produto B, Produto C]\n",
       "1            6  [Produto D, Produto B, Produto B]\n",
       "2            8  [Produto A, Produto A, Produto D]\n",
       "3           12  [Produto C, Produto B, Produto C]\n",
       "4           27  [Produto B, Produto B, Produto C]\n",
       "5           36             [Produto B, Produto A]\n",
       "6           39  [Produto C, Produto A, Produto C]\n",
       "7           42             [Produto D, Produto C]\n",
       "8           45             [Produto D, Produto A]\n",
       "9           50  [Produto B, Produto C, Produto B]\n",
       "10          52             [Produto A, Produto D]\n",
       "11          57             [Produto B, Produto A]\n",
       "12          58             [Produto C, Produto B]\n",
       "13          67             [Produto D, Produto C]\n",
       "14          70             [Produto D, Produto D]\n",
       "15          76  [Produto C, Produto B, Produto D]\n",
       "16          77             [Produto D, Produto C]\n",
       "17          83             [Produto C, Produto A]\n",
       "18          87             [Produto C, Produto D]\n",
       "19          95             [Produto D, Produto D]\n",
       "20          96             [Produto C, Produto B]"
      ]
     },
     "execution_count": 21,
     "metadata": {},
     "output_type": "execute_result"
    }
   ],
   "source": [
    "grupo_clientes_produtos"
   ]
  },
  {
   "cell_type": "markdown",
   "metadata": {},
   "source": [
    " Qual foi o mês com o maior rentabilidade?"
   ]
  },
  {
   "cell_type": "markdown",
   "metadata": {},
   "source": [
    "O mês com a maior rentabilidade foi o mês de Maio, seguido do mês de Março por uma diferença de 15, como mostrado no gráfico nas proximas sessões.\n",
    "| mês | receita |\n",
    "|-----|-----|\n",
    "| Mar  |  2050,0 |\n",
    "| Abr  |  1995,0 |\n",
    "| Mai  |  2065,0 |\n",
    "| Jun  |   535,0 |\n",
    "\n",
    "\n",
    "O mês que possuí o menor rendimento atualmente é o mês de junho, levando em considaração que os dados disponiveis para o mês de junho só vão ate dia 8.\n",
    "Se levarmos em conta os dados de Março à Maio a media de valores é 2036,66 e a mediana é 2050, é provavel que o mês de Junho consiga atingir os valores proximos a mediana.\n",
    "\n"
   ]
  },
  {
   "cell_type": "code",
   "execution_count": 22,
   "metadata": {},
   "outputs": [
    {
     "data": {
      "text/html": [
       "<div>\n",
       "<style scoped>\n",
       "    .dataframe tbody tr th:only-of-type {\n",
       "        vertical-align: middle;\n",
       "    }\n",
       "\n",
       "    .dataframe tbody tr th {\n",
       "        vertical-align: top;\n",
       "    }\n",
       "\n",
       "    .dataframe thead th {\n",
       "        text-align: right;\n",
       "    }\n",
       "</style>\n",
       "<table border=\"1\" class=\"dataframe\">\n",
       "  <thead>\n",
       "    <tr style=\"text-align: right;\">\n",
       "      <th></th>\n",
       "      <th>produto</th>\n",
       "      <th>mes</th>\n",
       "      <th>receita</th>\n",
       "    </tr>\n",
       "  </thead>\n",
       "  <tbody>\n",
       "    <tr>\n",
       "      <th>0</th>\n",
       "      <td>Produto A</td>\n",
       "      <td>3</td>\n",
       "      <td>550.0</td>\n",
       "    </tr>\n",
       "    <tr>\n",
       "      <th>1</th>\n",
       "      <td>Produto A</td>\n",
       "      <td>4</td>\n",
       "      <td>375.0</td>\n",
       "    </tr>\n",
       "    <tr>\n",
       "      <th>2</th>\n",
       "      <td>Produto A</td>\n",
       "      <td>5</td>\n",
       "      <td>525.0</td>\n",
       "    </tr>\n",
       "    <tr>\n",
       "      <th>3</th>\n",
       "      <td>Produto A</td>\n",
       "      <td>6</td>\n",
       "      <td>75.0</td>\n",
       "    </tr>\n",
       "    <tr>\n",
       "      <th>4</th>\n",
       "      <td>Produto B</td>\n",
       "      <td>3</td>\n",
       "      <td>540.0</td>\n",
       "    </tr>\n",
       "    <tr>\n",
       "      <th>5</th>\n",
       "      <td>Produto B</td>\n",
       "      <td>4</td>\n",
       "      <td>540.0</td>\n",
       "    </tr>\n",
       "    <tr>\n",
       "      <th>6</th>\n",
       "      <td>Produto B</td>\n",
       "      <td>5</td>\n",
       "      <td>540.0</td>\n",
       "    </tr>\n",
       "    <tr>\n",
       "      <th>7</th>\n",
       "      <td>Produto B</td>\n",
       "      <td>6</td>\n",
       "      <td>180.0</td>\n",
       "    </tr>\n",
       "    <tr>\n",
       "      <th>8</th>\n",
       "      <td>Produto C</td>\n",
       "      <td>3</td>\n",
       "      <td>320.0</td>\n",
       "    </tr>\n",
       "    <tr>\n",
       "      <th>9</th>\n",
       "      <td>Produto C</td>\n",
       "      <td>4</td>\n",
       "      <td>400.0</td>\n",
       "    </tr>\n",
       "    <tr>\n",
       "      <th>10</th>\n",
       "      <td>Produto C</td>\n",
       "      <td>5</td>\n",
       "      <td>360.0</td>\n",
       "    </tr>\n",
       "    <tr>\n",
       "      <th>11</th>\n",
       "      <td>Produto C</td>\n",
       "      <td>6</td>\n",
       "      <td>120.0</td>\n",
       "    </tr>\n",
       "    <tr>\n",
       "      <th>12</th>\n",
       "      <td>Produto D</td>\n",
       "      <td>3</td>\n",
       "      <td>640.0</td>\n",
       "    </tr>\n",
       "    <tr>\n",
       "      <th>13</th>\n",
       "      <td>Produto D</td>\n",
       "      <td>4</td>\n",
       "      <td>680.0</td>\n",
       "    </tr>\n",
       "    <tr>\n",
       "      <th>14</th>\n",
       "      <td>Produto D</td>\n",
       "      <td>5</td>\n",
       "      <td>640.0</td>\n",
       "    </tr>\n",
       "    <tr>\n",
       "      <th>15</th>\n",
       "      <td>Produto D</td>\n",
       "      <td>6</td>\n",
       "      <td>160.0</td>\n",
       "    </tr>\n",
       "  </tbody>\n",
       "</table>\n",
       "</div>"
      ],
      "text/plain": [
       "      produto  mes  receita\n",
       "0   Produto A    3    550.0\n",
       "1   Produto A    4    375.0\n",
       "2   Produto A    5    525.0\n",
       "3   Produto A    6     75.0\n",
       "4   Produto B    3    540.0\n",
       "5   Produto B    4    540.0\n",
       "6   Produto B    5    540.0\n",
       "7   Produto B    6    180.0\n",
       "8   Produto C    3    320.0\n",
       "9   Produto C    4    400.0\n",
       "10  Produto C    5    360.0\n",
       "11  Produto C    6    120.0\n",
       "12  Produto D    3    640.0\n",
       "13  Produto D    4    680.0\n",
       "14  Produto D    5    640.0\n",
       "15  Produto D    6    160.0"
      ]
     },
     "execution_count": 22,
     "metadata": {},
     "output_type": "execute_result"
    }
   ],
   "source": [
    "# Agrupamento e soma de quantidade pelo nome do produto e mês\n",
    "soma_qt_meses = df_sales.groupby(['produto', df_sales['data_pedido'].dt.month])['quantidade'].sum()\n",
    "#calculo da receita gerado pela venda dos produtos\n",
    "valor_arrecadado_mensal = soma_qt_meses * preco\n",
    "#Copia do pd.Series e transformado em um dataframe\n",
    "valor_arrecadado_mensal_cp = valor_arrecadado_mensal.to_frame()\n",
    "\n",
    "#resetando a index do dataframe\n",
    "valor_arrecadado_mensal_cp = valor_arrecadado_mensal_cp.reset_index()\n",
    "#renomeando as colunas 0 para receita e order_date para mês\n",
    "valor_arrecadado_mensal_cp = valor_arrecadado_mensal_cp.rename(columns={0: 'receita', 'data_pedido':'mes'})\n",
    "valor_arrecadado_mensal_cp \n"
   ]
  },
  {
   "cell_type": "code",
   "execution_count": 23,
   "metadata": {},
   "outputs": [],
   "source": [
    "#mapeamento dos meses com seus valores numericos\n",
    "mapping = {1:'Jan', 2:'Fev', 3:'Mar', 4:'Abr', 5:'Mai', \n",
    "           6:'Jun', 7:'Jul', 8:'Ago', 9:'Set', 10:'Out', 11:'Nov', 12:'Dez'}\n",
    "#aplicação do mapeamento\n",
    "valor_arrecadado_mensal_cp['mes'] = valor_arrecadado_mensal_cp['mes'].map(mapping)"
   ]
  },
  {
   "cell_type": "code",
   "execution_count": 24,
   "metadata": {},
   "outputs": [
    {
     "data": {
      "text/plain": [
       "mes\n",
       "Abr    1995.0\n",
       "Jun     535.0\n",
       "Mai    2065.0\n",
       "Mar    2050.0\n",
       "Name: receita, dtype: float64"
      ]
     },
     "execution_count": 24,
     "metadata": {},
     "output_type": "execute_result"
    }
   ],
   "source": [
    "#agrupamento mensal e soma dos valores de arrecadação mensal \n",
    "valor_max = valor_arrecadado_mensal_cp.groupby('mes')['receita'].sum()\n",
    "valor_max"
   ]
  },
  {
   "cell_type": "code",
   "execution_count": 25,
   "metadata": {},
   "outputs": [
    {
     "data": {
      "text/plain": [
       "count       4.000000\n",
       "mean     1661.250000\n",
       "std       751.436125\n",
       "min       535.000000\n",
       "25%      1630.000000\n",
       "50%      2022.500000\n",
       "75%      2053.750000\n",
       "max      2065.000000\n",
       "Name: receita, dtype: float64"
      ]
     },
     "execution_count": 25,
     "metadata": {},
     "output_type": "execute_result"
    }
   ],
   "source": [
    "valor_max.describe()"
   ]
  },
  {
   "cell_type": "code",
   "execution_count": 26,
   "metadata": {},
   "outputs": [
    {
     "data": {
      "text/plain": [
       "count       3.000000\n",
       "mean     2036.666667\n",
       "std        36.855574\n",
       "min      1995.000000\n",
       "25%      2022.500000\n",
       "50%      2050.000000\n",
       "75%      2057.500000\n",
       "max      2065.000000\n",
       "Name: receita, dtype: float64"
      ]
     },
     "execution_count": 26,
     "metadata": {},
     "output_type": "execute_result"
    }
   ],
   "source": [
    "#agrupamento mensal excluindo o mês de Junho para a realização da soma e \n",
    "# descrição do grupo para pegar a média e a mediana\n",
    "df_valor_calculo = valor_arrecadado_mensal_cp[valor_arrecadado_mensal_cp['mes'] != 'Jun']\n",
    "valor_calculo = df_valor_calculo.groupby('mes')['receita'].sum()\n",
    "valor_calculo.describe()"
   ]
  },
  {
   "cell_type": "code",
   "execution_count": 27,
   "metadata": {},
   "outputs": [
    {
     "data": {
      "text/plain": [
       "[Text(0.5, 0, 'Produto'),\n",
       " Text(0, 0.5, 'Receita'),\n",
       " Text(0.5, 1.0, 'Receita Mensal')]"
      ]
     },
     "execution_count": 27,
     "metadata": {},
     "output_type": "execute_result"
    },
    {
     "data": {
      "image/png": "[encoded data removed]",
      "text/plain": [
       "<Figure size 640x480 with 1 Axes>"
      ]
     },
     "metadata": {},
     "output_type": "display_data"
    }
   ],
   "source": [
    "sns.barplot(x='produto', y='receita', hue='mes', data=valor_arrecadado_mensal_cp, palette='dark:gray').set(xlabel='Produto', ylabel='Receita', title='Receita Mensal')"
   ]
  },
  {
   "cell_type": "markdown",
   "metadata": {},
   "source": [
    "existem padrões nas receitas dos produtos\n",
    "A receita gerada pelo produto B se manteve constante durante os meses de Março à Maio\n",
    "A receita gerada pelo produto D manteve o valor no intervalo de 1 mês (Março e Maio geraram a mesma quantidade de lucro)\n",
    "Os produtos A e C possuiem uma variancia de lucro por meses"
   ]
  },
  {
   "cell_type": "markdown",
   "metadata": {},
   "source": [
    "### Carregamento do dataframe com dados do cliente"
   ]
  },
  {
   "cell_type": "code",
   "execution_count": 28,
   "metadata": {},
   "outputs": [
    {
     "data": {
      "text/html": [
       "<div>\n",
       "<style scoped>\n",
       "    .dataframe tbody tr th:only-of-type {\n",
       "        vertical-align: middle;\n",
       "    }\n",
       "\n",
       "    .dataframe tbody tr th {\n",
       "        vertical-align: top;\n",
       "    }\n",
       "\n",
       "    .dataframe thead th {\n",
       "        text-align: right;\n",
       "    }\n",
       "</style>\n",
       "<table border=\"1\" class=\"dataframe\">\n",
       "  <thead>\n",
       "    <tr style=\"text-align: right;\">\n",
       "      <th></th>\n",
       "      <th>id_cliente</th>\n",
       "      <th>nome</th>\n",
       "      <th>sobrenome</th>\n",
       "      <th>email</th>\n",
       "      <th>telefone</th>\n",
       "      <th>endereço</th>\n",
       "      <th>numero</th>\n",
       "    </tr>\n",
       "  </thead>\n",
       "  <tbody>\n",
       "    <tr>\n",
       "      <th>0</th>\n",
       "      <td>1</td>\n",
       "      <td>João</td>\n",
       "      <td>Silva</td>\n",
       "      <td>joao.silva@email.com</td>\n",
       "      <td>(11) 1234-5678</td>\n",
       "      <td>Rua das Flores</td>\n",
       "      <td>123</td>\n",
       "    </tr>\n",
       "    <tr>\n",
       "      <th>1</th>\n",
       "      <td>2</td>\n",
       "      <td>Maria</td>\n",
       "      <td>Santos</td>\n",
       "      <td>maria.santos@email.com</td>\n",
       "      <td>(11) 2345-6789</td>\n",
       "      <td>Avenida Principal</td>\n",
       "      <td>456</td>\n",
       "    </tr>\n",
       "    <tr>\n",
       "      <th>2</th>\n",
       "      <td>3</td>\n",
       "      <td>Carlos</td>\n",
       "      <td>Rocha</td>\n",
       "      <td>carlos.rocha@email.com</td>\n",
       "      <td>(11) 3456-7890</td>\n",
       "      <td>Travessa das Árvores</td>\n",
       "      <td>789</td>\n",
       "    </tr>\n",
       "    <tr>\n",
       "      <th>3</th>\n",
       "      <td>4</td>\n",
       "      <td>Ana</td>\n",
       "      <td>Costa</td>\n",
       "      <td>ana.costa@email.com</td>\n",
       "      <td>(11) 4567-8901</td>\n",
       "      <td>Rua dos Passarinhos</td>\n",
       "      <td>987</td>\n",
       "    </tr>\n",
       "    <tr>\n",
       "      <th>4</th>\n",
       "      <td>5</td>\n",
       "      <td>Luiz</td>\n",
       "      <td>Oliveira</td>\n",
       "      <td>luiz.oliveira@email.com</td>\n",
       "      <td>(11) 5678-9012</td>\n",
       "      <td>Alameda das Rosas</td>\n",
       "      <td>654</td>\n",
       "    </tr>\n",
       "  </tbody>\n",
       "</table>\n",
       "</div>"
      ],
      "text/plain": [
       "   id_cliente    nome sobrenome                    email        telefone  \\\n",
       "0           1    João     Silva     joao.silva@email.com  (11) 1234-5678   \n",
       "1           2   Maria    Santos   maria.santos@email.com  (11) 2345-6789   \n",
       "2           3  Carlos     Rocha   carlos.rocha@email.com  (11) 3456-7890   \n",
       "3           4     Ana     Costa      ana.costa@email.com  (11) 4567-8901   \n",
       "4           5    Luiz  Oliveira  luiz.oliveira@email.com  (11) 5678-9012   \n",
       "\n",
       "               endereço  numero  \n",
       "0        Rua das Flores     123  \n",
       "1     Avenida Principal     456  \n",
       "2  Travessa das Árvores     789  \n",
       "3   Rua dos Passarinhos     987  \n",
       "4     Alameda das Rosas     654  "
      ]
     },
     "execution_count": 28,
     "metadata": {},
     "output_type": "execute_result"
    }
   ],
   "source": [
    "#carregamento da base de dados de clientes\n",
    "df_clientes = pd.read_excel(\"../data/customer_data.xlsx\")\n",
    "df_clientes.head()"
   ]
  },
  {
   "cell_type": "markdown",
   "metadata": {},
   "source": [
    "Quais são os endereços que mais tem clientes na base de dados? "
   ]
  },
  {
   "cell_type": "markdown",
   "metadata": {},
   "source": [
    "o top 5 de endereço com mais clientes é:\n",
    "\n",
    "| Endereço | QTD |\n",
    "|--------------------------|---|\n",
    "| Rua dos Girassóis        | 7 |\n",
    "| Rua das Violetas         | 6 |\n",
    "| Avenida dos Narcisos     | 5 |\n",
    "| Alameda dos Crisântemos  | 5 |\n",
    "| Travessa das Tulipas     | 5 |\n",
    "\n",
    "abaixo é mostrado o metodo que gerou os dados da tabela acima"
   ]
  },
  {
   "cell_type": "code",
   "execution_count": 29,
   "metadata": {},
   "outputs": [
    {
     "data": {
      "text/plain": [
       "endereço\n",
       "Alameda das Hortênsias     1\n",
       "Alameda das Orquídeas      1\n",
       "Alameda das Rosas          1\n",
       "Alameda dos Cravos         4\n",
       "Alameda dos Crisântemos    5\n",
       "Alameda dos Ipês           2\n",
       "Alameda dos Jasmins        1\n",
       "Alameda dos Lírios         3\n",
       "Alameda dos Manacás        2\n",
       "Avenida Principal          1\n",
       "Avenida das Amoras         1\n",
       "Avenida dos Cravos         3\n",
       "Avenida dos Crisântemos    1\n",
       "Avenida dos Flamboyants    2\n",
       "Avenida dos Girassóis      1\n",
       "Avenida dos Jardins        2\n",
       "Avenida dos Jasmins        3\n",
       "Avenida dos Lírios         1\n",
       "Avenida dos Narcisos       5\n",
       "Praça Central              1\n",
       "Praça das Flores           1\n",
       "Praça das Orquídeas        1\n",
       "Praça das Tulipas          1\n",
       "Praça dos Jardins          3\n",
       "Praça dos Lírios           3\n",
       "Quadra 10                  1\n",
       "Quadra 11                  1\n",
       "Quadra 2                   1\n",
       "Quadra 3                   1\n",
       "Quadra 4                   1\n",
       "Quadra 5                   1\n",
       "Quadra 6                   1\n",
       "Quadra 7                   1\n",
       "Quadra 8                   1\n",
       "Quadra 9                   1\n",
       "Rua das Acácias            1\n",
       "Rua das Begônias           1\n",
       "Rua das Flores             1\n",
       "Rua das Margaridas         5\n",
       "Rua das Orquídeas          1\n",
       "Rua das Palmeiras          1\n",
       "Rua das Violetas           6\n",
       "Rua dos Girassóis          7\n",
       "Rua dos Ipês               1\n",
       "Rua dos Manacás            4\n",
       "Rua dos Narcisos           1\n",
       "Rua dos Passarinhos        1\n",
       "Travessa das Margaridas    1\n",
       "Travessa das Tulipas       5\n",
       "Travessa das Árvores       1\n",
       "Travessa dos Amores        2\n",
       "Travessa dos Lilases       1\n",
       "dtype: int64"
      ]
     },
     "execution_count": 29,
     "metadata": {},
     "output_type": "execute_result"
    }
   ],
   "source": [
    "#criação do agrupamento de endereço de cliente pelo tamanho/quantidade que se repete\n",
    "agrupado_endereco = df_clientes.groupby('endereço').size()\n",
    "agrupado_endereco"
   ]
  },
  {
   "cell_type": "code",
   "execution_count": 30,
   "metadata": {},
   "outputs": [
    {
     "data": {
      "text/plain": [
       "endereço\n",
       "Rua dos Girassóis          7\n",
       "Rua das Violetas           6\n",
       "Avenida dos Narcisos       5\n",
       "Alameda dos Crisântemos    5\n",
       "Travessa das Tulipas       5\n",
       "dtype: int64"
      ]
     },
     "execution_count": 30,
     "metadata": {},
     "output_type": "execute_result"
    }
   ],
   "source": [
    "#filtro de agrupamento pegando todos os valorees de endereço acima de 1 e ordenando do maior para o menor \n",
    "#e mostrando os 5 com maior quantidade\n",
    "agrupado_endereco_aux = agrupado_endereco[agrupado_endereco>1].sort_values(ascending=False).head(5)\n",
    "agrupado_endereco_aux"
   ]
  },
  {
   "cell_type": "code",
   "execution_count": 31,
   "metadata": {},
   "outputs": [
    {
     "data": {
      "text/plain": [
       "<Axes: title={'center': 'Endereços com maior Clientes'}, xlabel='Endereço', ylabel='Nº de Clientes'>"
      ]
     },
     "execution_count": 31,
     "metadata": {},
     "output_type": "execute_result"
    },
    {
     "data": {
      "image/png": "[encoded data removed]",
      "text/plain": [
       "<Figure size 640x480 with 1 Axes>"
      ]
     },
     "metadata": {},
     "output_type": "display_data"
    }
   ],
   "source": [
    "agrupado_endereco_aux.plot.bar(xlabel='Endereço', ylabel='Nº de Clientes', title='Endereços com maior Clientes', color='gray')\n"
   ]
  },
  {
   "cell_type": "markdown",
   "metadata": {},
   "source": [
    "#### Criação do dataframe da união das duas bases de dados: Sales e Customer\n",
    "- sales: df_sales\n",
    "- customer: df_clientes "
   ]
  },
  {
   "cell_type": "code",
   "execution_count": 32,
   "metadata": {},
   "outputs": [
    {
     "data": {
      "text/plain": [
       "Index(['id_compra', 'produto', 'quantidade', 'preco_unitario', 'id_cliente',\n",
       "       'data_pedido'],\n",
       "      dtype='object')"
      ]
     },
     "execution_count": 32,
     "metadata": {},
     "output_type": "execute_result"
    }
   ],
   "source": [
    "df_sales.columns"
   ]
  },
  {
   "cell_type": "code",
   "execution_count": 33,
   "metadata": {},
   "outputs": [
    {
     "data": {
      "text/plain": [
       "Index(['id_cliente', 'nome', 'sobrenome', 'email', 'telefone', 'endereço',\n",
       "       'numero'],\n",
       "      dtype='object')"
      ]
     },
     "execution_count": 33,
     "metadata": {},
     "output_type": "execute_result"
    }
   ],
   "source": [
    "df_clientes.columns"
   ]
  },
  {
   "cell_type": "code",
   "execution_count": 34,
   "metadata": {},
   "outputs": [
    {
     "data": {
      "text/html": [
       "<div>\n",
       "<style scoped>\n",
       "    .dataframe tbody tr th:only-of-type {\n",
       "        vertical-align: middle;\n",
       "    }\n",
       "\n",
       "    .dataframe tbody tr th {\n",
       "        vertical-align: top;\n",
       "    }\n",
       "\n",
       "    .dataframe thead th {\n",
       "        text-align: right;\n",
       "    }\n",
       "</style>\n",
       "<table border=\"1\" class=\"dataframe\">\n",
       "  <thead>\n",
       "    <tr style=\"text-align: right;\">\n",
       "      <th></th>\n",
       "      <th>id_compra</th>\n",
       "      <th>produto</th>\n",
       "      <th>quantidade</th>\n",
       "      <th>preco_unitario</th>\n",
       "      <th>id_cliente</th>\n",
       "      <th>data_pedido</th>\n",
       "      <th>nome</th>\n",
       "      <th>sobrenome</th>\n",
       "      <th>email</th>\n",
       "      <th>telefone</th>\n",
       "      <th>endereço</th>\n",
       "      <th>numero</th>\n",
       "    </tr>\n",
       "  </thead>\n",
       "  <tbody>\n",
       "    <tr>\n",
       "      <th>0</th>\n",
       "      <td>1</td>\n",
       "      <td>Produto A</td>\n",
       "      <td>3</td>\n",
       "      <td>25</td>\n",
       "      <td>74</td>\n",
       "      <td>2024-03-01</td>\n",
       "      <td>Diego</td>\n",
       "      <td>Souza</td>\n",
       "      <td>diego.souza@email.com</td>\n",
       "      <td>(11) 4567-8901</td>\n",
       "      <td>Rua dos Girassóis</td>\n",
       "      <td>654</td>\n",
       "    </tr>\n",
       "    <tr>\n",
       "      <th>1</th>\n",
       "      <td>2</td>\n",
       "      <td>Produto B</td>\n",
       "      <td>2</td>\n",
       "      <td>30</td>\n",
       "      <td>36</td>\n",
       "      <td>2024-03-02</td>\n",
       "      <td>Isabela</td>\n",
       "      <td>Rodrigues</td>\n",
       "      <td>isabela.rodrigues@email.com</td>\n",
       "      <td>(11) 6789-0123</td>\n",
       "      <td>Quadra 5</td>\n",
       "      <td>321</td>\n",
       "    </tr>\n",
       "    <tr>\n",
       "      <th>2</th>\n",
       "      <td>3</td>\n",
       "      <td>Produto C</td>\n",
       "      <td>1</td>\n",
       "      <td>20</td>\n",
       "      <td>12</td>\n",
       "      <td>2024-03-03</td>\n",
       "      <td>Beatriz</td>\n",
       "      <td>Martins</td>\n",
       "      <td>beatriz.martins@email.com</td>\n",
       "      <td>(11) 2345-6789</td>\n",
       "      <td>Avenida dos Lírios</td>\n",
       "      <td>987</td>\n",
       "    </tr>\n",
       "    <tr>\n",
       "      <th>3</th>\n",
       "      <td>4</td>\n",
       "      <td>Produto A</td>\n",
       "      <td>4</td>\n",
       "      <td>25</td>\n",
       "      <td>92</td>\n",
       "      <td>2024-03-04</td>\n",
       "      <td>Marcelo</td>\n",
       "      <td>Silva</td>\n",
       "      <td>marcelo.silva@email.com</td>\n",
       "      <td>(11) 2345-6789</td>\n",
       "      <td>Avenida dos Narcisos</td>\n",
       "      <td>654</td>\n",
       "    </tr>\n",
       "    <tr>\n",
       "      <th>4</th>\n",
       "      <td>5</td>\n",
       "      <td>Produto D</td>\n",
       "      <td>2</td>\n",
       "      <td>40</td>\n",
       "      <td>55</td>\n",
       "      <td>2024-03-05</td>\n",
       "      <td>Felipe</td>\n",
       "      <td>Gomes</td>\n",
       "      <td>felipe.gomes@email.com</td>\n",
       "      <td>(11) 5678-9012</td>\n",
       "      <td>Alameda dos Crisântemos</td>\n",
       "      <td>987</td>\n",
       "    </tr>\n",
       "    <tr>\n",
       "      <th>...</th>\n",
       "      <td>...</td>\n",
       "      <td>...</td>\n",
       "      <td>...</td>\n",
       "      <td>...</td>\n",
       "      <td>...</td>\n",
       "      <td>...</td>\n",
       "      <td>...</td>\n",
       "      <td>...</td>\n",
       "      <td>...</td>\n",
       "      <td>...</td>\n",
       "      <td>...</td>\n",
       "      <td>...</td>\n",
       "    </tr>\n",
       "    <tr>\n",
       "      <th>95</th>\n",
       "      <td>96</td>\n",
       "      <td>Produto C</td>\n",
       "      <td>2</td>\n",
       "      <td>20</td>\n",
       "      <td>29</td>\n",
       "      <td>2024-06-04</td>\n",
       "      <td>Rodrigo</td>\n",
       "      <td>Silveira</td>\n",
       "      <td>rodrigo.silveira@email.com</td>\n",
       "      <td>(11) 9012-3456</td>\n",
       "      <td>Avenida das Amoras</td>\n",
       "      <td>654</td>\n",
       "    </tr>\n",
       "    <tr>\n",
       "      <th>96</th>\n",
       "      <td>97</td>\n",
       "      <td>Produto D</td>\n",
       "      <td>3</td>\n",
       "      <td>40</td>\n",
       "      <td>76</td>\n",
       "      <td>2024-06-05</td>\n",
       "      <td>Jessica</td>\n",
       "      <td>Fernandes</td>\n",
       "      <td>jessica.fernandes@email.com</td>\n",
       "      <td>(11) 6789-0123</td>\n",
       "      <td>Quadra 9</td>\n",
       "      <td>987</td>\n",
       "    </tr>\n",
       "    <tr>\n",
       "      <th>97</th>\n",
       "      <td>98</td>\n",
       "      <td>Produto A</td>\n",
       "      <td>1</td>\n",
       "      <td>25</td>\n",
       "      <td>97</td>\n",
       "      <td>2024-06-06</td>\n",
       "      <td>Larissa</td>\n",
       "      <td>Gonçalves</td>\n",
       "      <td>larissa.goncalves@email.com</td>\n",
       "      <td>(11) 7890-1234</td>\n",
       "      <td>Praça dos Jardins</td>\n",
       "      <td>987</td>\n",
       "    </tr>\n",
       "    <tr>\n",
       "      <th>98</th>\n",
       "      <td>99</td>\n",
       "      <td>Produto B</td>\n",
       "      <td>2</td>\n",
       "      <td>30</td>\n",
       "      <td>50</td>\n",
       "      <td>2024-06-07</td>\n",
       "      <td>Vanessa</td>\n",
       "      <td>Silva</td>\n",
       "      <td>vanessa.silva@email.com</td>\n",
       "      <td>(11) 0123-4567</td>\n",
       "      <td>Alameda dos Cravos</td>\n",
       "      <td>654</td>\n",
       "    </tr>\n",
       "    <tr>\n",
       "      <th>99</th>\n",
       "      <td>100</td>\n",
       "      <td>Produto C</td>\n",
       "      <td>4</td>\n",
       "      <td>20</td>\n",
       "      <td>67</td>\n",
       "      <td>2024-06-08</td>\n",
       "      <td>Marcio</td>\n",
       "      <td>Gonçalves</td>\n",
       "      <td>marcio.goncalves@email.com</td>\n",
       "      <td>(11) 7890-1234</td>\n",
       "      <td>Praça dos Lírios</td>\n",
       "      <td>987</td>\n",
       "    </tr>\n",
       "  </tbody>\n",
       "</table>\n",
       "<p>100 rows × 12 columns</p>\n",
       "</div>"
      ],
      "text/plain": [
       "    id_compra    produto  quantidade  preco_unitario  id_cliente data_pedido  \\\n",
       "0           1  Produto A           3              25          74  2024-03-01   \n",
       "1           2  Produto B           2              30          36  2024-03-02   \n",
       "2           3  Produto C           1              20          12  2024-03-03   \n",
       "3           4  Produto A           4              25          92  2024-03-04   \n",
       "4           5  Produto D           2              40          55  2024-03-05   \n",
       "..        ...        ...         ...             ...         ...         ...   \n",
       "95         96  Produto C           2              20          29  2024-06-04   \n",
       "96         97  Produto D           3              40          76  2024-06-05   \n",
       "97         98  Produto A           1              25          97  2024-06-06   \n",
       "98         99  Produto B           2              30          50  2024-06-07   \n",
       "99        100  Produto C           4              20          67  2024-06-08   \n",
       "\n",
       "       nome  sobrenome                        email        telefone  \\\n",
       "0     Diego      Souza        diego.souza@email.com  (11) 4567-8901   \n",
       "1   Isabela  Rodrigues  isabela.rodrigues@email.com  (11) 6789-0123   \n",
       "2   Beatriz    Martins    beatriz.martins@email.com  (11) 2345-6789   \n",
       "3   Marcelo      Silva      marcelo.silva@email.com  (11) 2345-6789   \n",
       "4    Felipe      Gomes       felipe.gomes@email.com  (11) 5678-9012   \n",
       "..      ...        ...                          ...             ...   \n",
       "95  Rodrigo   Silveira   rodrigo.silveira@email.com  (11) 9012-3456   \n",
       "96  Jessica  Fernandes  jessica.fernandes@email.com  (11) 6789-0123   \n",
       "97  Larissa  Gonçalves  larissa.goncalves@email.com  (11) 7890-1234   \n",
       "98  Vanessa      Silva      vanessa.silva@email.com  (11) 0123-4567   \n",
       "99   Marcio  Gonçalves   marcio.goncalves@email.com  (11) 7890-1234   \n",
       "\n",
       "                   endereço  numero  \n",
       "0         Rua dos Girassóis     654  \n",
       "1                  Quadra 5     321  \n",
       "2        Avenida dos Lírios     987  \n",
       "3      Avenida dos Narcisos     654  \n",
       "4   Alameda dos Crisântemos     987  \n",
       "..                      ...     ...  \n",
       "95       Avenida das Amoras     654  \n",
       "96                 Quadra 9     987  \n",
       "97        Praça dos Jardins     987  \n",
       "98       Alameda dos Cravos     654  \n",
       "99         Praça dos Lírios     987  \n",
       "\n",
       "[100 rows x 12 columns]"
      ]
     },
     "execution_count": 34,
     "metadata": {},
     "output_type": "execute_result"
    }
   ],
   "source": [
    "df_venda_clientes = pd.merge(df_sales, df_clientes, on='id_cliente')\n",
    "df_venda_clientes"
   ]
  },
  {
   "cell_type": "code",
   "execution_count": 35,
   "metadata": {},
   "outputs": [
    {
     "name": "stdout",
     "output_type": "stream",
     "text": [
      "<class 'pandas.core.frame.DataFrame'>\n",
      "RangeIndex: 100 entries, 0 to 99\n",
      "Data columns (total 12 columns):\n",
      " #   Column          Non-Null Count  Dtype         \n",
      "---  ------          --------------  -----         \n",
      " 0   id_compra       100 non-null    int64         \n",
      " 1   produto         100 non-null    object        \n",
      " 2   quantidade      100 non-null    int64         \n",
      " 3   preco_unitario  100 non-null    int64         \n",
      " 4   id_cliente      100 non-null    int64         \n",
      " 5   data_pedido     100 non-null    datetime64[ns]\n",
      " 6   nome            100 non-null    object        \n",
      " 7   sobrenome       100 non-null    object        \n",
      " 8   email           100 non-null    object        \n",
      " 9   telefone        100 non-null    object        \n",
      " 10  endereço        100 non-null    object        \n",
      " 11  numero          100 non-null    int64         \n",
      "dtypes: datetime64[ns](1), int64(5), object(6)\n",
      "memory usage: 9.5+ KB\n"
     ]
    }
   ],
   "source": [
    "df_venda_clientes.info()"
   ]
  },
  {
   "cell_type": "markdown",
   "metadata": {},
   "source": [
    "### Lançamento do novo Dataframe no Banco MYSQL"
   ]
  },
  {
   "cell_type": "code",
   "execution_count": 36,
   "metadata": {},
   "outputs": [],
   "source": [
    "#variaveis para montagem da url do banco de dados mysql\n",
    "MYSQL_HOST = \"localhost\"\n",
    "MYSQL_PORT = 3306  \n",
    "MYSQL_USER = \"######\" #altere aqui para seu usuario do banco de dados\n",
    "MYSQL_PASSWORD = \"######\" #altere aqui e insira sua senha do banco de dados\n",
    "MYSQL_DB = \"bancovendas\""
   ]
  },
  {
   "cell_type": "code",
   "execution_count": 37,
   "metadata": {},
   "outputs": [
    {
     "name": "stdout",
     "output_type": "stream",
     "text": [
      "banco criado\n"
     ]
    }
   ],
   "source": [
    "#try except para a criação do banco de dados no mysql\n",
    "try:\n",
    "  url_db = f\"mysql+pymysql://{MYSQL_USER}:{MYSQL_PASSWORD}@{MYSQL_HOST}:{MYSQL_PORT}/{MYSQL_DB}\"\n",
    "  create_database(url_db)\n",
    "  print(\"banco criado\")\n",
    "except OperationalError as e:\n",
    "  print(f\"erro : {e}\")\n"
   ]
  },
  {
   "cell_type": "code",
   "execution_count": 38,
   "metadata": {},
   "outputs": [],
   "source": [
    "#criação da engine para conectar ao banco e realizar o lançamento do dataframe no mysql\n",
    "engine = create_engine(url_db)"
   ]
  },
  {
   "cell_type": "code",
   "execution_count": 39,
   "metadata": {},
   "outputs": [
    {
     "data": {
      "text/plain": [
       "100"
      ]
     },
     "execution_count": 39,
     "metadata": {},
     "output_type": "execute_result"
    }
   ],
   "source": [
    "#lançamento do dataframe no mysql, a estrutura da tabela do banco vai ser herdada\n",
    "#do dataframe, ao rodar mostra a quantidade de linhas carregadas\n",
    "df_venda_clientes.to_sql(\"dadosvenda\", engine, index=False)"
   ]
  },
  {
   "cell_type": "markdown",
   "metadata": {},
   "source": [
    "#### teste de conexão"
   ]
  },
  {
   "cell_type": "code",
   "execution_count": 40,
   "metadata": {},
   "outputs": [],
   "source": [
    "#select para retornar tudo\n",
    "consulta_sql = \"SELECT * FROM dadosvenda;\""
   ]
  },
  {
   "cell_type": "code",
   "execution_count": 41,
   "metadata": {},
   "outputs": [],
   "source": [
    "df_consulta= pd.read_sql(consulta_sql, engine)"
   ]
  },
  {
   "cell_type": "code",
   "execution_count": 42,
   "metadata": {},
   "outputs": [
    {
     "data": {
      "text/html": [
       "<div>\n",
       "<style scoped>\n",
       "    .dataframe tbody tr th:only-of-type {\n",
       "        vertical-align: middle;\n",
       "    }\n",
       "\n",
       "    .dataframe tbody tr th {\n",
       "        vertical-align: top;\n",
       "    }\n",
       "\n",
       "    .dataframe thead th {\n",
       "        text-align: right;\n",
       "    }\n",
       "</style>\n",
       "<table border=\"1\" class=\"dataframe\">\n",
       "  <thead>\n",
       "    <tr style=\"text-align: right;\">\n",
       "      <th></th>\n",
       "      <th>id_compra</th>\n",
       "      <th>produto</th>\n",
       "      <th>quantidade</th>\n",
       "      <th>preco_unitario</th>\n",
       "      <th>id_cliente</th>\n",
       "      <th>data_pedido</th>\n",
       "      <th>nome</th>\n",
       "      <th>sobrenome</th>\n",
       "      <th>email</th>\n",
       "      <th>telefone</th>\n",
       "      <th>endereço</th>\n",
       "      <th>numero</th>\n",
       "    </tr>\n",
       "  </thead>\n",
       "  <tbody>\n",
       "    <tr>\n",
       "      <th>0</th>\n",
       "      <td>1</td>\n",
       "      <td>Produto A</td>\n",
       "      <td>3</td>\n",
       "      <td>25</td>\n",
       "      <td>74</td>\n",
       "      <td>2024-03-01</td>\n",
       "      <td>Diego</td>\n",
       "      <td>Souza</td>\n",
       "      <td>diego.souza@email.com</td>\n",
       "      <td>(11) 4567-8901</td>\n",
       "      <td>Rua dos Girassóis</td>\n",
       "      <td>654</td>\n",
       "    </tr>\n",
       "    <tr>\n",
       "      <th>1</th>\n",
       "      <td>2</td>\n",
       "      <td>Produto B</td>\n",
       "      <td>2</td>\n",
       "      <td>30</td>\n",
       "      <td>36</td>\n",
       "      <td>2024-03-02</td>\n",
       "      <td>Isabela</td>\n",
       "      <td>Rodrigues</td>\n",
       "      <td>isabela.rodrigues@email.com</td>\n",
       "      <td>(11) 6789-0123</td>\n",
       "      <td>Quadra 5</td>\n",
       "      <td>321</td>\n",
       "    </tr>\n",
       "    <tr>\n",
       "      <th>2</th>\n",
       "      <td>3</td>\n",
       "      <td>Produto C</td>\n",
       "      <td>1</td>\n",
       "      <td>20</td>\n",
       "      <td>12</td>\n",
       "      <td>2024-03-03</td>\n",
       "      <td>Beatriz</td>\n",
       "      <td>Martins</td>\n",
       "      <td>beatriz.martins@email.com</td>\n",
       "      <td>(11) 2345-6789</td>\n",
       "      <td>Avenida dos Lírios</td>\n",
       "      <td>987</td>\n",
       "    </tr>\n",
       "    <tr>\n",
       "      <th>3</th>\n",
       "      <td>4</td>\n",
       "      <td>Produto A</td>\n",
       "      <td>4</td>\n",
       "      <td>25</td>\n",
       "      <td>92</td>\n",
       "      <td>2024-03-04</td>\n",
       "      <td>Marcelo</td>\n",
       "      <td>Silva</td>\n",
       "      <td>marcelo.silva@email.com</td>\n",
       "      <td>(11) 2345-6789</td>\n",
       "      <td>Avenida dos Narcisos</td>\n",
       "      <td>654</td>\n",
       "    </tr>\n",
       "    <tr>\n",
       "      <th>4</th>\n",
       "      <td>5</td>\n",
       "      <td>Produto D</td>\n",
       "      <td>2</td>\n",
       "      <td>40</td>\n",
       "      <td>55</td>\n",
       "      <td>2024-03-05</td>\n",
       "      <td>Felipe</td>\n",
       "      <td>Gomes</td>\n",
       "      <td>felipe.gomes@email.com</td>\n",
       "      <td>(11) 5678-9012</td>\n",
       "      <td>Alameda dos Crisântemos</td>\n",
       "      <td>987</td>\n",
       "    </tr>\n",
       "    <tr>\n",
       "      <th>...</th>\n",
       "      <td>...</td>\n",
       "      <td>...</td>\n",
       "      <td>...</td>\n",
       "      <td>...</td>\n",
       "      <td>...</td>\n",
       "      <td>...</td>\n",
       "      <td>...</td>\n",
       "      <td>...</td>\n",
       "      <td>...</td>\n",
       "      <td>...</td>\n",
       "      <td>...</td>\n",
       "      <td>...</td>\n",
       "    </tr>\n",
       "    <tr>\n",
       "      <th>95</th>\n",
       "      <td>96</td>\n",
       "      <td>Produto C</td>\n",
       "      <td>2</td>\n",
       "      <td>20</td>\n",
       "      <td>29</td>\n",
       "      <td>2024-06-04</td>\n",
       "      <td>Rodrigo</td>\n",
       "      <td>Silveira</td>\n",
       "      <td>rodrigo.silveira@email.com</td>\n",
       "      <td>(11) 9012-3456</td>\n",
       "      <td>Avenida das Amoras</td>\n",
       "      <td>654</td>\n",
       "    </tr>\n",
       "    <tr>\n",
       "      <th>96</th>\n",
       "      <td>97</td>\n",
       "      <td>Produto D</td>\n",
       "      <td>3</td>\n",
       "      <td>40</td>\n",
       "      <td>76</td>\n",
       "      <td>2024-06-05</td>\n",
       "      <td>Jessica</td>\n",
       "      <td>Fernandes</td>\n",
       "      <td>jessica.fernandes@email.com</td>\n",
       "      <td>(11) 6789-0123</td>\n",
       "      <td>Quadra 9</td>\n",
       "      <td>987</td>\n",
       "    </tr>\n",
       "    <tr>\n",
       "      <th>97</th>\n",
       "      <td>98</td>\n",
       "      <td>Produto A</td>\n",
       "      <td>1</td>\n",
       "      <td>25</td>\n",
       "      <td>97</td>\n",
       "      <td>2024-06-06</td>\n",
       "      <td>Larissa</td>\n",
       "      <td>Gonçalves</td>\n",
       "      <td>larissa.goncalves@email.com</td>\n",
       "      <td>(11) 7890-1234</td>\n",
       "      <td>Praça dos Jardins</td>\n",
       "      <td>987</td>\n",
       "    </tr>\n",
       "    <tr>\n",
       "      <th>98</th>\n",
       "      <td>99</td>\n",
       "      <td>Produto B</td>\n",
       "      <td>2</td>\n",
       "      <td>30</td>\n",
       "      <td>50</td>\n",
       "      <td>2024-06-07</td>\n",
       "      <td>Vanessa</td>\n",
       "      <td>Silva</td>\n",
       "      <td>vanessa.silva@email.com</td>\n",
       "      <td>(11) 0123-4567</td>\n",
       "      <td>Alameda dos Cravos</td>\n",
       "      <td>654</td>\n",
       "    </tr>\n",
       "    <tr>\n",
       "      <th>99</th>\n",
       "      <td>100</td>\n",
       "      <td>Produto C</td>\n",
       "      <td>4</td>\n",
       "      <td>20</td>\n",
       "      <td>67</td>\n",
       "      <td>2024-06-08</td>\n",
       "      <td>Marcio</td>\n",
       "      <td>Gonçalves</td>\n",
       "      <td>marcio.goncalves@email.com</td>\n",
       "      <td>(11) 7890-1234</td>\n",
       "      <td>Praça dos Lírios</td>\n",
       "      <td>987</td>\n",
       "    </tr>\n",
       "  </tbody>\n",
       "</table>\n",
       "<p>100 rows × 12 columns</p>\n",
       "</div>"
      ],
      "text/plain": [
       "    id_compra    produto  quantidade  preco_unitario  id_cliente data_pedido  \\\n",
       "0           1  Produto A           3              25          74  2024-03-01   \n",
       "1           2  Produto B           2              30          36  2024-03-02   \n",
       "2           3  Produto C           1              20          12  2024-03-03   \n",
       "3           4  Produto A           4              25          92  2024-03-04   \n",
       "4           5  Produto D           2              40          55  2024-03-05   \n",
       "..        ...        ...         ...             ...         ...         ...   \n",
       "95         96  Produto C           2              20          29  2024-06-04   \n",
       "96         97  Produto D           3              40          76  2024-06-05   \n",
       "97         98  Produto A           1              25          97  2024-06-06   \n",
       "98         99  Produto B           2              30          50  2024-06-07   \n",
       "99        100  Produto C           4              20          67  2024-06-08   \n",
       "\n",
       "       nome  sobrenome                        email        telefone  \\\n",
       "0     Diego      Souza        diego.souza@email.com  (11) 4567-8901   \n",
       "1   Isabela  Rodrigues  isabela.rodrigues@email.com  (11) 6789-0123   \n",
       "2   Beatriz    Martins    beatriz.martins@email.com  (11) 2345-6789   \n",
       "3   Marcelo      Silva      marcelo.silva@email.com  (11) 2345-6789   \n",
       "4    Felipe      Gomes       felipe.gomes@email.com  (11) 5678-9012   \n",
       "..      ...        ...                          ...             ...   \n",
       "95  Rodrigo   Silveira   rodrigo.silveira@email.com  (11) 9012-3456   \n",
       "96  Jessica  Fernandes  jessica.fernandes@email.com  (11) 6789-0123   \n",
       "97  Larissa  Gonçalves  larissa.goncalves@email.com  (11) 7890-1234   \n",
       "98  Vanessa      Silva      vanessa.silva@email.com  (11) 0123-4567   \n",
       "99   Marcio  Gonçalves   marcio.goncalves@email.com  (11) 7890-1234   \n",
       "\n",
       "                   endereço  numero  \n",
       "0         Rua dos Girassóis     654  \n",
       "1                  Quadra 5     321  \n",
       "2        Avenida dos Lírios     987  \n",
       "3      Avenida dos Narcisos     654  \n",
       "4   Alameda dos Crisântemos     987  \n",
       "..                      ...     ...  \n",
       "95       Avenida das Amoras     654  \n",
       "96                 Quadra 9     987  \n",
       "97        Praça dos Jardins     987  \n",
       "98       Alameda dos Cravos     654  \n",
       "99         Praça dos Lírios     987  \n",
       "\n",
       "[100 rows x 12 columns]"
      ]
     },
     "execution_count": 42,
     "metadata": {},
     "output_type": "execute_result"
    }
   ],
   "source": [
    "df_consulta"
   ]
  },
  {
   "cell_type": "markdown",
   "metadata": {},
   "source": [
    "Qual é o cliente de id 35 e o que ele comprou e quando?"
   ]
  },
  {
   "cell_type": "code",
   "execution_count": 43,
   "metadata": {},
   "outputs": [
    {
     "data": {
      "text/html": [
       "<div>\n",
       "<style scoped>\n",
       "    .dataframe tbody tr th:only-of-type {\n",
       "        vertical-align: middle;\n",
       "    }\n",
       "\n",
       "    .dataframe tbody tr th {\n",
       "        vertical-align: top;\n",
       "    }\n",
       "\n",
       "    .dataframe thead th {\n",
       "        text-align: right;\n",
       "    }\n",
       "</style>\n",
       "<table border=\"1\" class=\"dataframe\">\n",
       "  <thead>\n",
       "    <tr style=\"text-align: right;\">\n",
       "      <th></th>\n",
       "      <th>nome</th>\n",
       "      <th>sobrenome</th>\n",
       "      <th>produto</th>\n",
       "      <th>data_pedido</th>\n",
       "    </tr>\n",
       "  </thead>\n",
       "  <tbody>\n",
       "    <tr>\n",
       "      <th>0</th>\n",
       "      <td>Fabio</td>\n",
       "      <td>Santana</td>\n",
       "      <td>Produto B</td>\n",
       "      <td>2024-05-18</td>\n",
       "    </tr>\n",
       "  </tbody>\n",
       "</table>\n",
       "</div>"
      ],
      "text/plain": [
       "    nome sobrenome    produto data_pedido\n",
       "0  Fabio   Santana  Produto B  2024-05-18"
      ]
     },
     "execution_count": 43,
     "metadata": {},
     "output_type": "execute_result"
    }
   ],
   "source": [
    "consulta_sql = \"SELECT nome, sobrenome, produto, data_pedido FROM dadosvenda WHERE dadosvenda.id_cliente\t= 35;\"\n",
    "df_resultado_sql = pd.read_sql(consulta_sql, engine)\n",
    "df_resultado_sql"
   ]
  },
  {
   "cell_type": "markdown",
   "metadata": {},
   "source": [
    "Quais clientes moram na Rua dos Girassóis?"
   ]
  },
  {
   "cell_type": "code",
   "execution_count": 44,
   "metadata": {},
   "outputs": [
    {
     "data": {
      "text/html": [
       "<div>\n",
       "<style scoped>\n",
       "    .dataframe tbody tr th:only-of-type {\n",
       "        vertical-align: middle;\n",
       "    }\n",
       "\n",
       "    .dataframe tbody tr th {\n",
       "        vertical-align: top;\n",
       "    }\n",
       "\n",
       "    .dataframe thead th {\n",
       "        text-align: right;\n",
       "    }\n",
       "</style>\n",
       "<table border=\"1\" class=\"dataframe\">\n",
       "  <thead>\n",
       "    <tr style=\"text-align: right;\">\n",
       "      <th></th>\n",
       "      <th>nome</th>\n",
       "      <th>sobrenome</th>\n",
       "    </tr>\n",
       "  </thead>\n",
       "  <tbody>\n",
       "    <tr>\n",
       "      <th>0</th>\n",
       "      <td>Diego</td>\n",
       "      <td>Souza</td>\n",
       "    </tr>\n",
       "    <tr>\n",
       "      <th>1</th>\n",
       "      <td>Jorge</td>\n",
       "      <td>Moreira</td>\n",
       "    </tr>\n",
       "    <tr>\n",
       "      <th>2</th>\n",
       "      <td>Silvia</td>\n",
       "      <td>Moreira</td>\n",
       "    </tr>\n",
       "    <tr>\n",
       "      <th>3</th>\n",
       "      <td>Juliana</td>\n",
       "      <td>Monteiro</td>\n",
       "    </tr>\n",
       "    <tr>\n",
       "      <th>4</th>\n",
       "      <td>Douglas</td>\n",
       "      <td>Souza</td>\n",
       "    </tr>\n",
       "  </tbody>\n",
       "</table>\n",
       "</div>"
      ],
      "text/plain": [
       "      nome sobrenome\n",
       "0    Diego     Souza\n",
       "1    Jorge   Moreira\n",
       "2   Silvia   Moreira\n",
       "3  Juliana  Monteiro\n",
       "4  Douglas     Souza"
      ]
     },
     "execution_count": 44,
     "metadata": {},
     "output_type": "execute_result"
    }
   ],
   "source": [
    "consulta_sql = \"SELECT nome, sobrenome FROM dadosvenda WHERE dadosvenda.endereço = 'Rua dos Girassóis';\"\n",
    "df_resultado_sql = pd.read_sql(consulta_sql, engine)\n",
    "df_resultado_sql"
   ]
  },
  {
   "cell_type": "markdown",
   "metadata": {},
   "source": [
    "#### Sumário"
   ]
  },
  {
   "cell_type": "markdown",
   "metadata": {},
   "source": [
    "- A media de venda de produtos é aproximado \n",
    "- O produto com a menor venda foi o responsável pelo maior faturamento\n",
    "- É provavel que o faturamento do mês de Junho atinja valores entre a média e mediana\n",
    "- Cerca de 21% dos clientes compram mais de um produto\n",
    "- O produto B é o que possuí faturamento mais estável\n",
    "- O produto D gerou a maior renda mesmo com o menor número de vendas\n",
    "- A região que mais possui clientes é a Rua dos Girassóis "
   ]
  }
 ],
 "metadata": {
  "kernelspec": {
   "display_name": "base",
   "language": "python",
   "name": "python3"
  },
  "language_info": {
   "codemirror_mode": {
    "name": "ipython",
    "version": 3
   },
   "file_extension": ".py",
   "mimetype": "text/x-python",
   "name": "python",
   "nbconvert_exporter": "python",
   "pygments_lexer": "ipython3",
   "version": "3.11.5"
  }
 },
 "nbformat": 4,
 "nbformat_minor": 2
}
